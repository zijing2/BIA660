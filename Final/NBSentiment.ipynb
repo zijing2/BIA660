{
 "cells": [
  {
   "cell_type": "code",
   "execution_count": 4,
   "metadata": {},
   "outputs": [
    {
     "name": "stdout",
     "output_type": "stream",
     "text": [
      "['1', '0', '']\n",
      "[ 0.          0.52525253  0.        ]\n",
      "[ 0.  1.  0.]\n",
      "[ 0.          0.68874172  0.        ]\n",
      "[ 44 104  50]\n",
      "             precision    recall  f1-score   support\n",
      "\n",
      "                  0.00      0.00      0.00        50\n",
      "          0       0.53      1.00      0.69       104\n",
      "          1       0.00      0.00      0.00        44\n",
      "\n",
      "avg / total       0.28      0.53      0.36       198\n",
      "\n"
     ]
    }
   ],
   "source": [
    "# Sentiment classification\n",
    "from sklearn.feature_extraction.text import TfidfVectorizer\n",
    "from sklearn.naive_bayes import MultinomialNB\n",
    "from sklearn.pipeline import Pipeline\n",
    "from sklearn.feature_extraction.text import CountVectorizer\n",
    "from sklearn.svm import LinearSVC\n",
    "from sklearn.feature_extraction.text import TfidfTransformer\n",
    "import csv\n",
    "import numpy as np\n",
    "from sklearn.multiclass import OneVsRestClassifier\n",
    "from sklearn.model_selection import train_test_split\n",
    "from sklearn.metrics import precision_recall_fscore_support\n",
    "from sklearn import metrics\n",
    "\n",
    "text=[]\n",
    "target=[]\n",
    "with open(\"data_sample2.csv\", 'r') as csvfile:\n",
    "    csvreader = csv.reader(csvfile, delimiter=',')\n",
    "    for row in csvreader:\n",
    "        text.append(row[1])\n",
    "        target.append(row[3])\n",
    "\n",
    "# with stop words removed\n",
    "tfidf_vect = TfidfVectorizer() \n",
    "\n",
    "# generate tfidf matrix\n",
    "dtm = tfidf_vect.fit_transform(text)\n",
    "\n",
    "# split dataset into train (70%) and test sets (30%)\n",
    "X_train, X_test, y_train, y_test = train_test_split(\\\n",
    "                dtm, target, test_size=0.3, random_state=0)\n",
    "\n",
    "# train a multinomial naive Bayes model using the testing data\n",
    "clf = MultinomialNB().fit(X_train, y_train)\n",
    "\n",
    "# predict the news group for the test dataset\n",
    "predicted=clf.predict(X_test)\n",
    "\n",
    "# get the list of unique labels\n",
    "labels=list(set(target))\n",
    "\n",
    "# calculate performance metrics. \n",
    "# Support is the number of occurrences of each label\n",
    "precision, recall, fscore, support=\\\n",
    "     precision_recall_fscore_support(y_test, predicted, labels=labels)\n",
    "\n",
    "print(labels)\n",
    "print(precision)\n",
    "print(recall)\n",
    "print(fscore)\n",
    "print(support)\n",
    "\n",
    "# another way to get all performance metrics\n",
    "print(metrics.classification_report(y_test, predicted, target_names=labels.reverse()))"
   ]
  },
  {
   "cell_type": "code",
   "execution_count": null,
   "metadata": {
    "collapsed": true
   },
   "outputs": [],
   "source": []
  },
  {
   "cell_type": "code",
   "execution_count": null,
   "metadata": {
    "collapsed": true
   },
   "outputs": [],
   "source": []
  }
 ],
 "metadata": {
  "kernelspec": {
   "display_name": "Python 2",
   "language": "python",
   "name": "python2"
  },
  "language_info": {
   "codemirror_mode": {
    "name": "ipython",
    "version": 2
   },
   "file_extension": ".py",
   "mimetype": "text/x-python",
   "name": "python",
   "nbconvert_exporter": "python",
   "pygments_lexer": "ipython2",
   "version": "2.7.13"
  }
 },
 "nbformat": 4,
 "nbformat_minor": 2
}
